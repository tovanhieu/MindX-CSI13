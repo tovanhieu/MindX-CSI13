{
 "cells": [
  {
   "cell_type": "code",
   "execution_count": 2,
   "id": "869e63ba",
   "metadata": {},
   "outputs": [
    {
     "name": "stdout",
     "output_type": "stream",
     "text": [
      "Requirement already satisfied: python-dotenv in c:\\users\\dell\\appdata\\local\\programs\\python\\python311\\lib\\site-packages (1.1.1)\n",
      "Note: you may need to restart the kernel to use updated packages.\n"
     ]
    },
    {
     "name": "stderr",
     "output_type": "stream",
     "text": [
      "\n",
      "[notice] A new release of pip available: 22.3 -> 25.1.1\n",
      "[notice] To update, run: python.exe -m pip install --upgrade pip\n"
     ]
    }
   ],
   "source": [
    "pip install python-dotenv"
   ]
  },
  {
   "cell_type": "code",
   "execution_count": 3,
   "id": "ddfdaec3",
   "metadata": {},
   "outputs": [
    {
     "name": "stdout",
     "output_type": "stream",
     "text": [
      "Requirement already satisfied: google.generativeai in c:\\users\\dell\\appdata\\local\\programs\\python\\python311\\lib\\site-packages (0.8.5)\n",
      "Requirement already satisfied: google-ai-generativelanguage==0.6.15 in c:\\users\\dell\\appdata\\local\\programs\\python\\python311\\lib\\site-packages (from google.generativeai) (0.6.15)\n",
      "Requirement already satisfied: google-api-core in c:\\users\\dell\\appdata\\local\\programs\\python\\python311\\lib\\site-packages (from google.generativeai) (2.25.1)\n",
      "Requirement already satisfied: google-api-python-client in c:\\users\\dell\\appdata\\local\\programs\\python\\python311\\lib\\site-packages (from google.generativeai) (2.177.0)\n",
      "Requirement already satisfied: google-auth>=2.15.0 in c:\\users\\dell\\appdata\\local\\programs\\python\\python311\\lib\\site-packages (from google.generativeai) (2.40.3)\n",
      "Requirement already satisfied: protobuf in c:\\users\\dell\\appdata\\local\\programs\\python\\python311\\lib\\site-packages (from google.generativeai) (5.29.5)\n",
      "Requirement already satisfied: pydantic in c:\\users\\dell\\appdata\\local\\programs\\python\\python311\\lib\\site-packages (from google.generativeai) (2.11.7)\n",
      "Requirement already satisfied: tqdm in c:\\users\\dell\\appdata\\local\\programs\\python\\python311\\lib\\site-packages (from google.generativeai) (4.67.1)\n",
      "Requirement already satisfied: typing-extensions in c:\\users\\dell\\appdata\\local\\programs\\python\\python311\\lib\\site-packages (from google.generativeai) (4.14.0)\n",
      "Requirement already satisfied: proto-plus<2.0.0dev,>=1.22.3 in c:\\users\\dell\\appdata\\local\\programs\\python\\python311\\lib\\site-packages (from google-ai-generativelanguage==0.6.15->google.generativeai) (1.26.1)\n",
      "Requirement already satisfied: cachetools<6.0,>=2.0.0 in c:\\users\\dell\\appdata\\local\\programs\\python\\python311\\lib\\site-packages (from google-auth>=2.15.0->google.generativeai) (5.5.2)\n",
      "Requirement already satisfied: pyasn1-modules>=0.2.1 in c:\\users\\dell\\appdata\\local\\programs\\python\\python311\\lib\\site-packages (from google-auth>=2.15.0->google.generativeai) (0.4.2)\n",
      "Requirement already satisfied: rsa<5,>=3.1.4 in c:\\users\\dell\\appdata\\local\\programs\\python\\python311\\lib\\site-packages (from google-auth>=2.15.0->google.generativeai) (4.9.1)\n",
      "Requirement already satisfied: googleapis-common-protos<2.0.0,>=1.56.2 in c:\\users\\dell\\appdata\\local\\programs\\python\\python311\\lib\\site-packages (from google-api-core->google.generativeai) (1.70.0)\n",
      "Requirement already satisfied: requests<3.0.0,>=2.18.0 in c:\\users\\dell\\appdata\\local\\programs\\python\\python311\\lib\\site-packages (from google-api-core->google.generativeai) (2.32.4)\n",
      "Requirement already satisfied: httplib2<1.0.0,>=0.19.0 in c:\\users\\dell\\appdata\\local\\programs\\python\\python311\\lib\\site-packages (from google-api-python-client->google.generativeai) (0.22.0)\n",
      "Requirement already satisfied: google-auth-httplib2<1.0.0,>=0.2.0 in c:\\users\\dell\\appdata\\local\\programs\\python\\python311\\lib\\site-packages (from google-api-python-client->google.generativeai) (0.2.0)\n",
      "Requirement already satisfied: uritemplate<5,>=3.0.1 in c:\\users\\dell\\appdata\\local\\programs\\python\\python311\\lib\\site-packages (from google-api-python-client->google.generativeai) (4.2.0)\n",
      "Requirement already satisfied: annotated-types>=0.6.0 in c:\\users\\dell\\appdata\\local\\programs\\python\\python311\\lib\\site-packages (from pydantic->google.generativeai) (0.7.0)\n",
      "Requirement already satisfied: pydantic-core==2.33.2 in c:\\users\\dell\\appdata\\local\\programs\\python\\python311\\lib\\site-packages (from pydantic->google.generativeai) (2.33.2)\n",
      "Requirement already satisfied: typing-inspection>=0.4.0 in c:\\users\\dell\\appdata\\local\\programs\\python\\python311\\lib\\site-packages (from pydantic->google.generativeai) (0.4.1)\n",
      "Requirement already satisfied: colorama in c:\\users\\dell\\appdata\\local\\programs\\python\\python311\\lib\\site-packages (from tqdm->google.generativeai) (0.4.6)\n",
      "Requirement already satisfied: grpcio<2.0.0,>=1.33.2 in c:\\users\\dell\\appdata\\local\\programs\\python\\python311\\lib\\site-packages (from google-api-core->google.generativeai) (1.73.1)\n",
      "Requirement already satisfied: grpcio-status<2.0.0,>=1.33.2 in c:\\users\\dell\\appdata\\local\\programs\\python\\python311\\lib\\site-packages (from google-api-core->google.generativeai) (1.71.2)\n",
      "Requirement already satisfied: pyparsing!=3.0.0,!=3.0.1,!=3.0.2,!=3.0.3,<4,>=2.4.2 in c:\\users\\dell\\appdata\\local\\programs\\python\\python311\\lib\\site-packages (from httplib2<1.0.0,>=0.19.0->google-api-python-client->google.generativeai) (3.2.3)\n",
      "Requirement already satisfied: pyasn1<0.7.0,>=0.6.1 in c:\\users\\dell\\appdata\\local\\programs\\python\\python311\\lib\\site-packages (from pyasn1-modules>=0.2.1->google-auth>=2.15.0->google.generativeai) (0.6.1)\n",
      "Requirement already satisfied: charset_normalizer<4,>=2 in c:\\users\\dell\\appdata\\local\\programs\\python\\python311\\lib\\site-packages (from requests<3.0.0,>=2.18.0->google-api-core->google.generativeai) (3.4.2)\n",
      "Requirement already satisfied: idna<4,>=2.5 in c:\\users\\dell\\appdata\\local\\programs\\python\\python311\\lib\\site-packages (from requests<3.0.0,>=2.18.0->google-api-core->google.generativeai) (3.10)\n",
      "Requirement already satisfied: urllib3<3,>=1.21.1 in c:\\users\\dell\\appdata\\local\\programs\\python\\python311\\lib\\site-packages (from requests<3.0.0,>=2.18.0->google-api-core->google.generativeai) (2.5.0)\n",
      "Requirement already satisfied: certifi>=2017.4.17 in c:\\users\\dell\\appdata\\local\\programs\\python\\python311\\lib\\site-packages (from requests<3.0.0,>=2.18.0->google-api-core->google.generativeai) (2025.6.15)\n",
      "Note: you may need to restart the kernel to use updated packages.\n"
     ]
    },
    {
     "name": "stderr",
     "output_type": "stream",
     "text": [
      "\n",
      "[notice] A new release of pip available: 22.3 -> 25.1.1\n",
      "[notice] To update, run: python.exe -m pip install --upgrade pip\n"
     ]
    }
   ],
   "source": [
    "pip install google.generativeai"
   ]
  },
  {
   "cell_type": "markdown",
   "id": "0cb75ea0",
   "metadata": {},
   "source": [
    "# Setup môi trường\n",
    "1. Truy cập [Google AI Studio](https://aistudio.google.com/apikey) và chọn `Create API Key`\n",
    "2. Tạo file `.env` và lưu API key dưới dạng `GOOGLE_API_KEY=\"YOUR_API_KEY\"`\n",
    "3. Sử dụng thư viện `python-dotenv` để quản lý API Key"
   ]
  },
  {
   "cell_type": "code",
   "execution_count": 17,
   "id": "49aa42fb",
   "metadata": {},
   "outputs": [],
   "source": [
    "import os\n",
    "import pandas as pd\n",
    "from dotenv import load_dotenv\n",
    "import google.generativeai as genai"
   ]
  },
  {
   "cell_type": "code",
   "execution_count": 18,
   "id": "13ce23d0",
   "metadata": {},
   "outputs": [],
   "source": [
    "load_dotenv()\n",
    "google_api_key = os.getenv(\"GOOGLE_API_KEY\")\n",
    "genai.configure(api_key=google_api_key)"
   ]
  },
  {
   "cell_type": "markdown",
   "id": "04854e60",
   "metadata": {},
   "source": [
    "# LLM\n",
    "## Tạo LLM với API\n",
    "Sử dụng class `GenerativeModel` và tạo một object LLM với mô hình là `gemini-1.5-flash`"
   ]
  },
  {
   "cell_type": "code",
   "execution_count": 19,
   "id": "09a0ccf3",
   "metadata": {},
   "outputs": [],
   "source": [
    "model = genai.GenerativeModel(\"gemini-1.5-flash\")"
   ]
  },
  {
   "cell_type": "code",
   "execution_count": 20,
   "id": "26ea1253",
   "metadata": {},
   "outputs": [
    {
     "data": {
      "text/plain": [
       "response:\n",
       "GenerateContentResponse(\n",
       "    done=True,\n",
       "    iterator=None,\n",
       "    result=protos.GenerateContentResponse({\n",
       "      \"candidates\": [\n",
       "        {\n",
       "          \"content\": {\n",
       "            \"parts\": [\n",
       "              {\n",
       "                \"text\": \"T\\u00f4i l\\u00e0 m\\u1ed9t m\\u00f4 h\\u00ecnh ng\\u00f4n ng\\u1eef l\\u1edbn, \\u0111\\u01b0\\u1ee3c \\u0111\\u00e0o t\\u1ea1o b\\u1edfi Google.\"\n",
       "              }\n",
       "            ],\n",
       "            \"role\": \"model\"\n",
       "          },\n",
       "          \"finish_reason\": \"STOP\",\n",
       "          \"avg_logprobs\": -0.006903944909572602\n",
       "        }\n",
       "      ],\n",
       "      \"usage_metadata\": {\n",
       "        \"prompt_token_count\": 4,\n",
       "        \"candidates_token_count\": 15,\n",
       "        \"total_token_count\": 19\n",
       "      },\n",
       "      \"model_version\": \"gemini-1.5-flash\"\n",
       "    }),\n",
       ")"
      ]
     },
     "execution_count": 20,
     "metadata": {},
     "output_type": "execute_result"
    }
   ],
   "source": [
    "prompt = \"Bạn là ai?\"\n",
    "response = model.generate_content(prompt)\n",
    "response"
   ]
  },
  {
   "cell_type": "code",
   "execution_count": 21,
   "id": "078e06d1",
   "metadata": {},
   "outputs": [
    {
     "data": {
      "text/plain": [
       "'Tôi là một mô hình ngôn ngữ lớn, được đào tạo bởi Google.'"
      ]
     },
     "execution_count": 21,
     "metadata": {},
     "output_type": "execute_result"
    }
   ],
   "source": [
    "response.text"
   ]
  },
  {
   "cell_type": "markdown",
   "id": "df29525d",
   "metadata": {},
   "source": [
    "## Thêm ngữ cảnh cho LLM\n",
    "Để hướng dẫn LLM giải quyết một tác vụ cụ thể, ta sử dụng prompt engineering.\n",
    "\n",
    "Bạn là chủ một nhà hàng. Hãy viết hướng dẫn phù hợp để LLM của bạn có thể:\n",
    "1. quảng cáo về nhà hàng\n",
    "2. giới thiệu menu cho khách hàng\n",
    "\n",
    "Với Gemini API, ta có thể đưa hướng dẫn vào tham số `system_instruction` ngay lúc tạo đối tượng `model`."
   ]
  },
  {
   "cell_type": "code",
   "execution_count": 23,
   "id": "08049a61",
   "metadata": {},
   "outputs": [],
   "source": [
    "model = genai.GenerativeModel(\"gemini-1.5-flash\",\n",
    "                              system_instruction=\"\"\"\n",
    "                              Bạn tên là PhoBot, một trợ lý AI có nhiệm vụ hỗ trợ giải đáp thông tin cho khách hàng đến nhà hàng Viet Cuisine.\n",
    "                              Các chức năng mà bạn hỗ trợ gồm:\n",
    "                              1. Giới thiệu nhà hàng Viet Cuisine: là một nhà hàng thành lập bởi người Việt, ở địa chỉ 329 Scottmouth, Georgia, USA\n",
    "                              2. Giới thiệu menu của nhà hàng, gồm các món: phở, gỏi cuốn, cơm tấm, bún bò.\n",
    "                              Đối với các câu hỏi ngoài chức năng mà bạn hỗ trợ, trả lời bằng 'Tôi đang không hỗ trợ chức năng này. Xin liên hệ nhân viên nhà hàng để biết thêm thông tin.'\n",
    "                              \"\"\")"
   ]
  },
  {
   "cell_type": "code",
   "execution_count": 24,
   "id": "b0c77159",
   "metadata": {},
   "outputs": [
    {
     "data": {
      "text/plain": [
       "'Nhà hàng Viet Cuisine nằm ở địa chỉ 329 Scottmouth, Georgia, USA.\\n'"
      ]
     },
     "execution_count": 24,
     "metadata": {},
     "output_type": "execute_result"
    }
   ],
   "source": [
    "prompt = \"Địa chỉ nhà hàng?\"\n",
    "response = model.generate_content(prompt)\n",
    "response.text"
   ]
  },
  {
   "cell_type": "code",
   "execution_count": 26,
   "id": "f70bd53a",
   "metadata": {},
   "outputs": [
    {
     "data": {
      "text/plain": [
       "'Tôi đang không hỗ trợ chức năng này. Xin liên hệ nhân viên nhà hàng để biết thêm thông tin.\\n'"
      ]
     },
     "execution_count": 26,
     "metadata": {},
     "output_type": "execute_result"
    }
   ],
   "source": [
    "prompt = \"Nhà hàng đóng cửa mấy giờ?\"\n",
    "response = model.generate_content(prompt)\n",
    "response.text"
   ]
  },
  {
   "cell_type": "markdown",
   "id": "a954a3a9",
   "metadata": {},
   "source": [
    "## Thử thách prompt engineer\n",
    "Hãy lần lượt thêm vào hướng dẫn của mô hình các nội dung sau:\n",
    "* Nói chuyện lịch sự hơn với khách hàng\n",
    "* Xử lý các yêu cầu không liên quan đến chức năng của khách hàng\n",
    "\n",
    "Theo dõi cách mô hình thay đổi câu trả lời khi đã chỉnh sửa hướng dẫn."
   ]
  },
  {
   "cell_type": "code",
   "execution_count": 27,
   "id": "10d5b205",
   "metadata": {},
   "outputs": [],
   "source": [
    "model = genai.GenerativeModel(\"gemini-1.5-flash\",\n",
    "                              system_instruction=\"\"\"\n",
    "                              Bạn tên là PhoBot, một trợ lý AI có nhiệm vụ hỗ trợ giải đáp thông tin cho khách hàng đến nhà hàng Viet Cuisine.\n",
    "                              Các chức năng mà bạn hỗ trợ gồm:\n",
    "                              1. Giới thiệu nhà hàng Viet Cuisine: là một nhà hàng thành lập bởi người Việt, ở địa chỉ 329 Scottmouth, Georgia, USA\n",
    "                              2. Giới thiệu menu của nhà hàng, gồm các món: phở, gỏi cuốn, cơm tấm, bún bò.\n",
    "                              Hãy có thái độ thân thiện và lịch sự khi nói chuyện với khách hàng, vì khách hàng là thượng đế.\n",
    "                              \"\"\")"
   ]
  },
  {
   "cell_type": "code",
   "execution_count": 28,
   "id": "3ad0d4eb",
   "metadata": {},
   "outputs": [
    {
     "data": {
      "text/plain": [
       "'Chào bạn! Nhà hàng Viet Cuisine rất hân hạnh được đón tiếp bạn. Địa chỉ của chúng tôi là 329 Scottmouth, Georgia, USA.  Rất mong được gặp bạn tại nhà hàng!\\n'"
      ]
     },
     "execution_count": 28,
     "metadata": {},
     "output_type": "execute_result"
    }
   ],
   "source": [
    "prompt = \"Địa chỉ nhà hàng\"\n",
    "response = model.generate_content(prompt)\n",
    "response.text"
   ]
  },
  {
   "cell_type": "code",
   "execution_count": 29,
   "id": "c5caf743",
   "metadata": {},
   "outputs": [],
   "source": [
    "model = genai.GenerativeModel(\"gemini-1.5-flash\",\n",
    "                              system_instruction=\"\"\"\n",
    "                              Bạn tên là PhoBot, một trợ lý AI có nhiệm vụ hỗ trợ giải đáp thông tin cho khách hàng đến nhà hàng Viet Cuisine.\n",
    "                              Các chức năng mà bạn hỗ trợ gồm:\n",
    "                              1. Giới thiệu nhà hàng Viet Cuisine: là một nhà hàng thành lập bởi người Việt, ở địa chỉ 329 Scottmouth, Georgia, USA\n",
    "                              2. Giới thiệu menu của nhà hàng, gồm các món: phở, gỏi cuốn, cơm tấm, bún bò.\n",
    "                              Ngoài hai chức năng trên, bạn không hỗ trợ chức năng nào khác. Đối với các câu hỏi ngoài chức năng mà bạn hỗ trợ, trả lời bằng 'Tôi đang không hỗ trợ chức năng này. Xin liên hệ nhân viên nhà hàng qua hotline 318-237-3870 để được trợ giúp.'\n",
    "                              Hãy có thái độ thân thiện và lịch sự khi nói chuyện với khác hàng, vì khách hàng là thượng đế.\n",
    "                              \"\"\")"
   ]
  },
  {
   "cell_type": "code",
   "execution_count": 30,
   "id": "a5ba47a8",
   "metadata": {},
   "outputs": [
    {
     "data": {
      "text/plain": [
       "'Tôi đang không hỗ trợ chức năng này. Xin liên hệ nhân viên nhà hàng qua hotline 318-237-3870 để được trợ giúp.\\n'"
      ]
     },
     "execution_count": 30,
     "metadata": {},
     "output_type": "execute_result"
    }
   ],
   "source": [
    "prompt = \"Tôi muốn book bàn\"\n",
    "response = model.generate_content(prompt)\n",
    "response.text"
   ]
  },
  {
   "cell_type": "markdown",
   "id": "18fb2647",
   "metadata": {},
   "source": [
    "## Kết nối file dữ liệu với LLM\n",
    "Đọc file dữ liệu từ `menu.csv`"
   ]
  },
  {
   "cell_type": "code",
   "execution_count": 31,
   "id": "80097d62",
   "metadata": {},
   "outputs": [
    {
     "data": {
      "text/html": [
       "<div>\n",
       "<style scoped>\n",
       "    .dataframe tbody tr th:only-of-type {\n",
       "        vertical-align: middle;\n",
       "    }\n",
       "\n",
       "    .dataframe tbody tr th {\n",
       "        vertical-align: top;\n",
       "    }\n",
       "\n",
       "    .dataframe thead th {\n",
       "        text-align: right;\n",
       "    }\n",
       "</style>\n",
       "<table border=\"1\" class=\"dataframe\">\n",
       "  <thead>\n",
       "    <tr style=\"text-align: right;\">\n",
       "      <th></th>\n",
       "      <th>name</th>\n",
       "      <th>description</th>\n",
       "      <th>ingredients</th>\n",
       "      <th>notes</th>\n",
       "    </tr>\n",
       "  </thead>\n",
       "  <tbody>\n",
       "    <tr>\n",
       "      <th>0</th>\n",
       "      <td>Gỏi Cuốn</td>\n",
       "      <td>Mỗi chiếc gỏi cuốn được cuốn cẩn thận trong lá...</td>\n",
       "      <td>bún, bánh tráng, tôm, thịt bò phi lê, rau sống</td>\n",
       "      <td>Món gỏi cuốn thường được phục vụ tươi và phải ...</td>\n",
       "    </tr>\n",
       "    <tr>\n",
       "      <th>1</th>\n",
       "      <td>Phở Việt Nam</td>\n",
       "      <td>Nổi tiếng với hương vị đậm đà và hương thơm củ...</td>\n",
       "      <td>bún phở, thịt bò, thịt gà, hành tây, hành phi,...</td>\n",
       "      <td>Thịt bò có thể chọn giữa tái và chín.</td>\n",
       "    </tr>\n",
       "    <tr>\n",
       "      <th>2</th>\n",
       "      <td>Cơm Tấm</td>\n",
       "      <td>Cơm tấm là một món ăn đường phố phổ biến trong...</td>\n",
       "      <td>gạo tấm, thịt heo, trứng, chả, dưa leo, nước m...</td>\n",
       "      <td>Cơm tấm thường được ăn vào bữa trưa hoặc bữa t...</td>\n",
       "    </tr>\n",
       "    <tr>\n",
       "      <th>3</th>\n",
       "      <td>Bún Bò</td>\n",
       "      <td>Bún bò là một món ăn đặc trưng của ẩm thực miề...</td>\n",
       "      <td>bún, thịt bò, hành tây, hành tím, rau sống</td>\n",
       "      <td>Thịt bò có thể chọn giữa tái, nạm, bắp bò, giò...</td>\n",
       "    </tr>\n",
       "    <tr>\n",
       "      <th>3</th>\n",
       "      <td>Khoai Tây Chiên</td>\n",
       "      <td>Khoai tây chiên là một món ăn phổ biến và được...</td>\n",
       "      <td>khoai tây, dầu, muối</td>\n",
       "      <td>NaN</td>\n",
       "    </tr>\n",
       "  </tbody>\n",
       "</table>\n",
       "</div>"
      ],
      "text/plain": [
       "              name                                        description  \\\n",
       "0         Gỏi Cuốn  Mỗi chiếc gỏi cuốn được cuốn cẩn thận trong lá...   \n",
       "1     Phở Việt Nam  Nổi tiếng với hương vị đậm đà và hương thơm củ...   \n",
       "2          Cơm Tấm  Cơm tấm là một món ăn đường phố phổ biến trong...   \n",
       "3           Bún Bò  Bún bò là một món ăn đặc trưng của ẩm thực miề...   \n",
       "3  Khoai Tây Chiên  Khoai tây chiên là một món ăn phổ biến và được...   \n",
       "\n",
       "                                         ingredients  \\\n",
       "0     bún, bánh tráng, tôm, thịt bò phi lê, rau sống   \n",
       "1  bún phở, thịt bò, thịt gà, hành tây, hành phi,...   \n",
       "2  gạo tấm, thịt heo, trứng, chả, dưa leo, nước m...   \n",
       "3         bún, thịt bò, hành tây, hành tím, rau sống   \n",
       "3                               khoai tây, dầu, muối   \n",
       "\n",
       "                                               notes  \n",
       "0  Món gỏi cuốn thường được phục vụ tươi và phải ...  \n",
       "1              Thịt bò có thể chọn giữa tái và chín.  \n",
       "2  Cơm tấm thường được ăn vào bữa trưa hoặc bữa t...  \n",
       "3  Thịt bò có thể chọn giữa tái, nạm, bắp bò, giò...  \n",
       "3                                                NaN  "
      ]
     },
     "execution_count": 31,
     "metadata": {},
     "output_type": "execute_result"
    }
   ],
   "source": [
    "menu_df = pd.read_csv(\"menu.csv\", index_col=[0])\n",
    "menu_df\n"
   ]
  },
  {
   "cell_type": "code",
   "execution_count": 32,
   "id": "16a96111",
   "metadata": {},
   "outputs": [],
   "source": [
    "model = genai.GenerativeModel(\"gemini-1.5-flash\",\n",
    "                              system_instruction=f\"\"\"\n",
    "                              Bạn tên là PhoBot, một trợ lý AI có nhiệm vụ hỗ trợ giải đáp thông tin cho khách hàng đến nhà hàng Viet Cuisine.\n",
    "                              Các chức năng mà bạn hỗ trợ gồm:\n",
    "                              1. Giới thiệu nhà hàng Viet Cuisine: là một nhà hàng thành lập bởi người Việt, ở địa chỉ 329 Scottmouth, Georgia, USA\n",
    "                              2. Giới thiệu menu của nhà hàng, gồm các món: {', '.join(menu_df['name'].to_list())}.\n",
    "                              Ngoài hai chức năng trên, bạn không hỗ trợ chức năng nào khác. Đối với các câu hỏi ngoài chức năng mà bạn hỗ trợ, trả lời bằng 'Tôi đang không hỗ trợ chức năng này. Xin liên hệ nhân viên nhà hàng qua hotline 318-237-3870 để được trợ giúp.'\n",
    "                              Hãy có thái độ thân thiện và lịch sự khi nói chuyện với khác hàng, vì khách hàng là thượng đế.\n",
    "                              \"\"\")"
   ]
  },
  {
   "cell_type": "code",
   "execution_count": null,
   "id": "a0236f2f",
   "metadata": {},
   "outputs": [
    {
     "data": {
      "text/markdown": [
       "Chào bạn!  Nhà hàng Viet Cuisine rất hân hạnh được phục vụ bạn.  Dưới đây là các món ăn trong menu của chúng tôi:\n",
       "\n",
       "* Gỏi Cuốn\n",
       "* Phở Việt Nam\n",
       "* Cơm Tấm\n",
       "* Bún Bò\n",
       "* Khoai Tây Chiên\n",
       "\n",
       "Mời bạn xem xét và đặt món nhé!  Nếu cần thêm thông tin gì, đừng ngần ngại hỏi tôi.\n"
      ],
      "text/plain": [
       "<IPython.core.display.Markdown object>"
      ]
     },
     "execution_count": 33,
     "metadata": {},
     "output_type": "execute_result"
    }
   ],
   "source": [
    "from IPython.display import Markdown\n",
    "\n",
    "prompt = \"Liệt kê các món ăn trong menu\"\n",
    "answer = model.generate_content(prompt)\n",
    "Markdown(answer.text)"
   ]
  },
  {
   "cell_type": "markdown",
   "id": "f8e5fbee",
   "metadata": {},
   "source": [
    "## [Mở rộng] Hệ thống hỏi - đáp\n",
    "Sử dụng phương thức `embed_content` để biến DataFrame thành dạng embeddings để LLM có thể kết nối."
   ]
  },
  {
   "cell_type": "code",
   "execution_count": 34,
   "id": "1007a32c",
   "metadata": {},
   "outputs": [
    {
     "name": "stdout",
     "output_type": "stream",
     "text": [
      "models/embedding-001\n",
      "models/text-embedding-004\n",
      "models/gemini-embedding-exp-03-07\n",
      "models/gemini-embedding-exp\n",
      "models/gemini-embedding-001\n"
     ]
    }
   ],
   "source": [
    "for m in genai.list_models():\n",
    "  if 'embedContent' in m.supported_generation_methods:\n",
    "    print(m.name)"
   ]
  },
  {
   "cell_type": "code",
   "execution_count": 35,
   "id": "c4e8f9d8",
   "metadata": {},
   "outputs": [
    {
     "data": {
      "text/html": [
       "<div>\n",
       "<style scoped>\n",
       "    .dataframe tbody tr th:only-of-type {\n",
       "        vertical-align: middle;\n",
       "    }\n",
       "\n",
       "    .dataframe tbody tr th {\n",
       "        vertical-align: top;\n",
       "    }\n",
       "\n",
       "    .dataframe thead th {\n",
       "        text-align: right;\n",
       "    }\n",
       "</style>\n",
       "<table border=\"1\" class=\"dataframe\">\n",
       "  <thead>\n",
       "    <tr style=\"text-align: right;\">\n",
       "      <th></th>\n",
       "      <th>name</th>\n",
       "      <th>description</th>\n",
       "      <th>ingredients</th>\n",
       "      <th>notes</th>\n",
       "      <th>description_emb</th>\n",
       "    </tr>\n",
       "  </thead>\n",
       "  <tbody>\n",
       "    <tr>\n",
       "      <th>0</th>\n",
       "      <td>Gỏi Cuốn</td>\n",
       "      <td>Mỗi chiếc gỏi cuốn được cuốn cẩn thận trong lá...</td>\n",
       "      <td>bún, bánh tráng, tôm, thịt bò phi lê, rau sống</td>\n",
       "      <td>Món gỏi cuốn thường được phục vụ tươi và phải ...</td>\n",
       "      <td>[-0.013258968, 0.072852395, -0.0081224935, -0....</td>\n",
       "    </tr>\n",
       "    <tr>\n",
       "      <th>1</th>\n",
       "      <td>Phở Việt Nam</td>\n",
       "      <td>Nổi tiếng với hương vị đậm đà và hương thơm củ...</td>\n",
       "      <td>bún phở, thịt bò, thịt gà, hành tây, hành phi,...</td>\n",
       "      <td>Thịt bò có thể chọn giữa tái và chín.</td>\n",
       "      <td>[-0.015033179, 0.04973999, -0.0054149763, -0.0...</td>\n",
       "    </tr>\n",
       "    <tr>\n",
       "      <th>2</th>\n",
       "      <td>Cơm Tấm</td>\n",
       "      <td>Cơm tấm là một món ăn đường phố phổ biến trong...</td>\n",
       "      <td>gạo tấm, thịt heo, trứng, chả, dưa leo, nước m...</td>\n",
       "      <td>Cơm tấm thường được ăn vào bữa trưa hoặc bữa t...</td>\n",
       "      <td>[0.009709443, 0.078435704, -0.027416762, -0.04...</td>\n",
       "    </tr>\n",
       "    <tr>\n",
       "      <th>3</th>\n",
       "      <td>Bún Bò</td>\n",
       "      <td>Bún bò là một món ăn đặc trưng của ẩm thực miề...</td>\n",
       "      <td>bún, thịt bò, hành tây, hành tím, rau sống</td>\n",
       "      <td>Thịt bò có thể chọn giữa tái, nạm, bắp bò, giò...</td>\n",
       "      <td>[-0.0042047882, 0.059224624, -0.000562346, -0....</td>\n",
       "    </tr>\n",
       "    <tr>\n",
       "      <th>3</th>\n",
       "      <td>Khoai Tây Chiên</td>\n",
       "      <td>Khoai tây chiên là một món ăn phổ biến và được...</td>\n",
       "      <td>khoai tây, dầu, muối</td>\n",
       "      <td>NaN</td>\n",
       "      <td>[0.009064724, 0.056260645, -0.030308044, -0.05...</td>\n",
       "    </tr>\n",
       "  </tbody>\n",
       "</table>\n",
       "</div>"
      ],
      "text/plain": [
       "              name                                        description  \\\n",
       "0         Gỏi Cuốn  Mỗi chiếc gỏi cuốn được cuốn cẩn thận trong lá...   \n",
       "1     Phở Việt Nam  Nổi tiếng với hương vị đậm đà và hương thơm củ...   \n",
       "2          Cơm Tấm  Cơm tấm là một món ăn đường phố phổ biến trong...   \n",
       "3           Bún Bò  Bún bò là một món ăn đặc trưng của ẩm thực miề...   \n",
       "3  Khoai Tây Chiên  Khoai tây chiên là một món ăn phổ biến và được...   \n",
       "\n",
       "                                         ingredients  \\\n",
       "0     bún, bánh tráng, tôm, thịt bò phi lê, rau sống   \n",
       "1  bún phở, thịt bò, thịt gà, hành tây, hành phi,...   \n",
       "2  gạo tấm, thịt heo, trứng, chả, dưa leo, nước m...   \n",
       "3         bún, thịt bò, hành tây, hành tím, rau sống   \n",
       "3                               khoai tây, dầu, muối   \n",
       "\n",
       "                                               notes  \\\n",
       "0  Món gỏi cuốn thường được phục vụ tươi và phải ...   \n",
       "1              Thịt bò có thể chọn giữa tái và chín.   \n",
       "2  Cơm tấm thường được ăn vào bữa trưa hoặc bữa t...   \n",
       "3  Thịt bò có thể chọn giữa tái, nạm, bắp bò, giò...   \n",
       "3                                                NaN   \n",
       "\n",
       "                                     description_emb  \n",
       "0  [-0.013258968, 0.072852395, -0.0081224935, -0....  \n",
       "1  [-0.015033179, 0.04973999, -0.0054149763, -0.0...  \n",
       "2  [0.009709443, 0.078435704, -0.027416762, -0.04...  \n",
       "3  [-0.0042047882, 0.059224624, -0.000562346, -0....  \n",
       "3  [0.009064724, 0.056260645, -0.030308044, -0.05...  "
      ]
     },
     "execution_count": 35,
     "metadata": {},
     "output_type": "execute_result"
    }
   ],
   "source": [
    "model_name = \"models/text-embedding-004\"\n",
    "\n",
    "def embed_column(title, text):\n",
    "  return genai.embed_content(model=model_name,\n",
    "                             content=text,\n",
    "                             task_type=\"retrieval_document\",\n",
    "                             title=title)[\"embedding\"]\n",
    "\n",
    "menu_df['description_emb'] = menu_df.apply(lambda row: embed_column(row['name'], row['description']), axis=1)\n",
    "menu_df"
   ]
  },
  {
   "cell_type": "code",
   "execution_count": 36,
   "id": "76f88c9a",
   "metadata": {},
   "outputs": [
    {
     "name": "stdout",
     "output_type": "stream",
     "text": [
      "[0.60631474 0.6205643  0.63064218 0.64726555 0.59767299]\n",
      "['Gỏi Cuốn', 'Phở Việt Nam', 'Cơm Tấm', 'Bún Bò', 'Khoai Tây Chiên']\n"
     ]
    },
    {
     "data": {
      "text/plain": [
       "'Bún bò là một món ăn đặc trưng của ẩm thực miền Trung Việt Nam, nổi tiếng với hương vị đậm đà và phong phú. Mỗi tô bún bò thường bao gồm sợi bún mềm mại, thịt bò cùng với nước dùng thơm ngon.'"
      ]
     },
     "execution_count": 36,
     "metadata": {},
     "output_type": "execute_result"
    }
   ],
   "source": [
    "import numpy as np\n",
    "\n",
    "def find_best_passage(query, dataframe, colname, emb_colname):\n",
    "  \"\"\"\n",
    "  Compute the distances between the query and each document in the dataframe\n",
    "  using the dot product.\n",
    "  \"\"\"\n",
    "  query_embedding = genai.embed_content(model=model_name,\n",
    "                                        content=query,\n",
    "                                        task_type=\"retrieval_query\")\n",
    "  dot_products = np.dot(np.stack(dataframe[emb_colname]), query_embedding[\"embedding\"])\n",
    "  print(dot_products)\n",
    "  print(dataframe['name'].to_list())\n",
    "  idx = np.argmax(dot_products)\n",
    "  return dataframe.iloc[idx][colname] # Return text from index with max value   \n",
    "\n",
    "query = \"Có món bún không?\"\n",
    "answer = find_best_passage(query, menu_df, 'description', 'description_emb')\n",
    "answer"
   ]
  },
  {
   "cell_type": "code",
   "execution_count": 37,
   "id": "dfa1a5d2",
   "metadata": {},
   "outputs": [],
   "source": [
    "query = \"Có món bún không?\"\n",
    "clean_answer = answer.replace(\"'\", \"\").replace('\"', \"\").replace(\"\\n\", \" \")\n",
    "\n",
    "model = genai.GenerativeModel(\"gemini-1.5-flash\",\n",
    "                              system_instruction=f\"\"\"\n",
    "                              Bạn tên là PhoBot, một trợ lý AI có nhiệm vụ hỗ trợ giải đáp thông tin cho khách hàng đến nhà hàng Viet Cuisine.\n",
    "                              Các chức năng mà bạn hỗ trợ gồm:\n",
    "                              1. Giới thiệu nhà hàng Viet Cuisine: là một nhà hàng thành lập bởi người Việt, ở địa chỉ 329 Scottmouth, Georgia, USA\n",
    "                              2. Giới thiệu menu của nhà hàng, gồm các món: {', '.join(menu_df['name'].to_list())}.\n",
    "                              3. Hỏi đáp về món ăn trong menu\n",
    "                              QUESTION: '{query}'\n",
    "                              ANSWER: '{clean_answer}'\n",
    "                              Ngoài ba chức năng trên, bạn không hỗ trợ chức năng nào khác. Đối với các câu hỏi ngoài chức năng mà bạn hỗ trợ, trả lời bằng 'Tôi đang không hỗ trợ chức năng này. Xin liên hệ nhân viên nhà hàng qua hotline 318-237-3870 để được trợ giúp.'\n",
    "                              Hãy có thái độ thân thiện và lịch sự khi nói chuyện với khác hàng, vì khachs hàng là thượng đế.\n",
    "                              \"\"\")"
   ]
  },
  {
   "cell_type": "code",
   "execution_count": 38,
   "id": "af6435e4",
   "metadata": {},
   "outputs": [
    {
     "data": {
      "text/markdown": [
       "Tôi đang không hỗ trợ chức năng này. Xin liên hệ nhân viên nhà hàng qua hotline 318-237-3870 để được trợ giúp.\n"
      ],
      "text/plain": [
       "<IPython.core.display.Markdown object>"
      ]
     },
     "execution_count": 38,
     "metadata": {},
     "output_type": "execute_result"
    }
   ],
   "source": [
    "from IPython.display import Markdown\n",
    "\n",
    "prompt = \"Tôi muốn ăn chay. Có món nào không?\"\n",
    "answer = model.generate_content(prompt)\n",
    "Markdown(answer.text)"
   ]
  }
 ],
 "metadata": {
  "kernelspec": {
   "display_name": "Python 3",
   "language": "python",
   "name": "python3"
  },
  "language_info": {
   "codemirror_mode": {
    "name": "ipython",
    "version": 3
   },
   "file_extension": ".py",
   "mimetype": "text/x-python",
   "name": "python",
   "nbconvert_exporter": "python",
   "pygments_lexer": "ipython3",
   "version": "3.11.0"
  }
 },
 "nbformat": 4,
 "nbformat_minor": 5
}
